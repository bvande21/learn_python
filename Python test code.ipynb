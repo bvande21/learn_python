{
 "cells": [
  {
   "cell_type": "code",
   "execution_count": 2,
   "metadata": {
    "collapsed": false
   },
   "outputs": [
    {
     "name": "stderr",
     "output_type": "stream",
     "text": [
      "/Users/BillVandenberg/anaconda/lib/python3.6/site-packages/xarray/core/formatting.py:16: FutureWarning: The pandas.tslib module is deprecated and will be removed in a future version.\n",
      "  from pandas.tslib import OutOfBoundsDatetime\n"
     ]
    }
   ],
   "source": [
    "%matplotlib inline\n",
    "import pandas as pd\n",
    "import xarray as xr\n",
    "import numpy as np\n",
    "import matplotlib.pyplot as plt"
   ]
  },
  {
   "cell_type": "code",
   "execution_count": 3,
   "metadata": {
    "collapsed": true
   },
   "outputs": [],
   "source": [
    "# import data from server\n",
    "# take the data that you want\n",
    "# use data to make a graph/chart"
   ]
  },
  {
   "cell_type": "code",
   "execution_count": 4,
   "metadata": {
    "collapsed": true
   },
   "outputs": [],
   "source": [
    "data = pd.read_csv('/Users/BillVandenberg/Documents/Stoy Research/CSV_Test_values.csv')\n"
   ]
  },
  {
   "cell_type": "code",
   "execution_count": 8,
   "metadata": {
    "collapsed": false
   },
   "outputs": [
    {
     "data": {
      "text/plain": [
       "<matplotlib.legend.Legend at 0x1145e3da0>"
      ]
     },
     "execution_count": 8,
     "metadata": {},
     "output_type": "execute_result"
    },
    {
     "data": {
      "image/png": "[encoded data removed]",
      "text/plain": [
       "<matplotlib.figure.Figure at 0x114478438>"
      ]
     },
     "metadata": {},
     "output_type": "display_data"
    }
   ],
   "source": [
    "rolling_avg = data['tavg'].rolling(window=24).mean()\n",
    "fig = plt.figure()\n",
    "plt.plot(data['year'],rolling_avg.values)\n",
    "plt.plot(data['year'],data['vpd'], label='vpd')\n",
    "ax = plt.gca()\n",
    "ax.plot(data['year'], data['tmin'] ,label='tmin')\n",
    "ax.plot(data['year'], data['tmax'], label='tmax')\n",
    "ax.legend()\n"
   ]
  },
  {
   "cell_type": "code",
   "execution_count": 17,
   "metadata": {
    "collapsed": false
   },
   "outputs": [
    {
     "data": {
      "text/plain": [
       "0            NaN\n",
       "1            NaN\n",
       "2            NaN\n",
       "3            NaN\n",
       "4            NaN\n",
       "5            NaN\n",
       "6            NaN\n",
       "7            NaN\n",
       "8            NaN\n",
       "9            NaN\n",
       "10           NaN\n",
       "11           NaN\n",
       "12           NaN\n",
       "13           NaN\n",
       "14           NaN\n",
       "15           NaN\n",
       "16           NaN\n",
       "17           NaN\n",
       "18           NaN\n",
       "19           NaN\n",
       "20           NaN\n",
       "21           NaN\n",
       "22           NaN\n",
       "23           NaN\n",
       "24           NaN\n",
       "25           NaN\n",
       "26           NaN\n",
       "27           NaN\n",
       "28           NaN\n",
       "29           NaN\n",
       "         ...    \n",
       "121    24.314814\n",
       "122    24.356689\n",
       "123    24.394269\n",
       "124    24.430018\n",
       "125    24.468163\n",
       "126    24.510319\n",
       "127    24.553342\n",
       "128    24.592277\n",
       "129    24.631759\n",
       "130    24.670875\n",
       "131    24.705760\n",
       "132    24.744165\n",
       "133    24.787015\n",
       "134    24.826256\n",
       "135    24.865981\n",
       "136    24.907473\n",
       "137    24.951335\n",
       "138    24.996413\n",
       "139    25.035041\n",
       "140    25.076742\n",
       "141    25.119669\n",
       "142    25.164867\n",
       "143    25.206984\n",
       "144    25.243350\n",
       "145    25.286588\n",
       "146    25.328332\n",
       "147    25.372582\n",
       "148    25.417899\n",
       "149    25.454886\n",
       "150    25.497687\n",
       "Name: tavg, Length: 151, dtype: float64"
      ]
     },
     "execution_count": 17,
     "metadata": {},
     "output_type": "execute_result"
    }
   ],
   "source": [
    "rolling_avg"
   ]
  },
  {
   "cell_type": "code",
   "execution_count": null,
   "metadata": {
    "collapsed": true
   },
   "outputs": [],
   "source": [
    "# necessary to organize data and only take data that is required to create graph\n",
    "# could have arrays of data for multiple years/multiple arrays/complex arrays (2-D/3-D)\n",
    "# would be wise to ask Gabe how to do this"
   ]
  },
  {
   "cell_type": "code",
   "execution_count": null,
   "metadata": {
    "collapsed": true
   },
   "outputs": [],
   "source": [
    "# creating the chart - chapter 11 + 12 in book\n",
    "# create title, axes, legends, etc.\n",
    "# possibly create color map\n",
    "    # create layers\n",
    "        # map then color squares\n",
    "# make sure there are no outliers"
   ]
  }
 ],
 "metadata": {
  "kernelspec": {
   "display_name": "Python 3",
   "language": "python",
   "name": "python3"
  },
  "language_info": {
   "codemirror_mode": {
    "name": "ipython",
    "version": 3
   },
   "file_extension": ".py",
   "mimetype": "text/x-python",
   "name": "python",
   "nbconvert_exporter": "python",
   "pygments_lexer": "ipython3",
   "version": "3.6.0"
  }
 },
 "nbformat": 4,
 "nbformat_minor": 2
}
